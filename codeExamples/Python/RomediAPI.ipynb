{
 "cells": [
  {
   "cell_type": "code",
   "execution_count": 7,
   "metadata": {},
   "outputs": [],
   "source": [
    "%run IAMsystemRomediAPI.py"
   ]
  },
  {
   "cell_type": "code",
   "execution_count": 47,
   "metadata": {},
   "outputs": [],
   "source": [
    "## local installation\n",
    "url_detection = \"http://127.0.0.1:8892/IAMsystemRomediAPI-0.0.1/GetJSONdrugsDetected\" \n",
    "url_detection_by_type = \"http://127.0.0.1:8892/IAMsystemRomediAPI-0.0.1/GetJSONdrugDetectedByType\"\n",
    "\n",
    "## romedi website API\n",
    "url_detection = \"http://www.romedi.fr:8892/IAMsystemRomediAPI-0.0.1/GetJSONdrugsDetected\"\n",
    "url_detection_by_type = \"http://www.romedi.fr:8892/IAMsystemRomediAPI-0.0.1/GetJSONdrugDetectedByType\"\n",
    "\n",
    "iam_system = IAMsystemRomediAPI(url_detection,url_detection_by_type)"
   ]
  },
  {
   "cell_type": "markdown",
   "metadata": {},
   "source": [
    "## Detect drug:"
   ]
  },
  {
   "cell_type": "code",
   "execution_count": 48,
   "metadata": {},
   "outputs": [],
   "source": [
    "text = \"Traitement à l'admission: MTX, dompéridone et escitalopram et donormil\"\n",
    "text = text.encode(encoding='UTF-8') ## important to encode. See https://github.com/requests/requests/issues/4133"
   ]
  },
  {
   "cell_type": "code",
   "execution_count": 49,
   "metadata": {},
   "outputs": [
    {
     "name": "stdout",
     "output_type": "stream",
     "text": [
      "{'0': {'dictLabel': 'methotrexate', 'normalizedTerm': 'mtx', 'code': 'http://www.romedi.fr/romedi/BNl3e393ik30r71den01ddc07bhrgjr68h', 'terminoLabel': 'METHOTREXATE', 'start': 26, 'term': 'MTX', 'end': 28, 'type': 'BN'}, '1': {'dictLabel': 'domperidone', 'normalizedTerm': 'domperidone', 'code': 'http://www.romedi.fr/romedi/BNrm21178t8uhk4brb5n0h09umjp3257n4', 'terminoLabel': 'DOMPERIDONE', 'start': 31, 'term': 'dompéridone', 'end': 41, 'type': 'BN'}, '2': {'dictLabel': 'escitalopram', 'normalizedTerm': 'escitalopram', 'code': 'http://www.romedi.fr/romedi/INrth34o4uohkjffrahl2pepb44lkgp5ui', 'terminoLabel': 'ESCITALOPRAM', 'start': 46, 'term': 'escitalopram', 'end': 57, 'type': 'IN'}, '3': {'dictLabel': 'donormil', 'normalizedTerm': 'donormil', 'code': 'http://www.romedi.fr/romedi/BNu24oe8nbirv98a39rgooip1qlv6uj5r0', 'terminoLabel': 'DONORMYL', 'start': 62, 'term': 'donormil', 'end': 69, 'type': 'BN'}}\n"
     ]
    }
   ],
   "source": [
    "results = iam_system.detect_drug(text)\n",
    "print(results)"
   ]
  },
  {
   "cell_type": "code",
   "execution_count": 50,
   "metadata": {},
   "outputs": [
    {
     "name": "stdout",
     "output_type": "stream",
     "text": [
      "4\n"
     ]
    }
   ],
   "source": [
    "print(len(results)) ## 4 drugs detected"
   ]
  },
  {
   "cell_type": "markdown",
   "metadata": {},
   "source": [
    "* dictLabel: the label matched in the Romedy dictionary (not always the pref label)\n",
    "* term : the term in the text\n",
    "* terminoLabel : the pref label in the Romedi terminology\n",
    "* start/end : offset position in the text\n",
    "* type: romediType. BN = Brand Name ; IN = Ingredient. (In the current configuration, only BN and IN are available ; see the Java code to change this configuration). \n"
   ]
  },
  {
   "cell_type": "code",
   "execution_count": 51,
   "metadata": {},
   "outputs": [
    {
     "name": "stdout",
     "output_type": "stream",
     "text": [
      "Detected MTX starting at 26 and ending at 28, type: BN, see URI: http://www.romedi.fr/romedi/BNl3e393ik30r71den01ddc07bhrgjr68h\n",
      "Detected dompéridone starting at 31 and ending at 41, type: BN, see URI: http://www.romedi.fr/romedi/BNrm21178t8uhk4brb5n0h09umjp3257n4\n",
      "Detected escitalopram starting at 46 and ending at 57, type: IN, see URI: http://www.romedi.fr/romedi/INrth34o4uohkjffrahl2pepb44lkgp5ui\n",
      "Detected donormil starting at 62 and ending at 69, type: BN, see URI: http://www.romedi.fr/romedi/BNu24oe8nbirv98a39rgooip1qlv6uj5r0\n"
     ]
    }
   ],
   "source": [
    "for key in results.keys():\n",
    "    term = results[key][\"term\"]\n",
    "    start = results[key][\"start\"]\n",
    "    end = results[key][\"end\"]\n",
    "    code = results[key][\"code\"]\n",
    "    romedi_type = results[key][\"type\"]\n",
    "    uri = results[key][\"code\"]\n",
    "    print(f'Detected {term} starting at {start} and ending at {end}, type: {romedi_type}, see URI: {uri}')"
   ]
  },
  {
   "cell_type": "code",
   "execution_count": 67,
   "metadata": {},
   "outputs": [
    {
     "name": "stdout",
     "output_type": "stream",
     "text": [
      "{'IN': [[{'label': 'irbésartan', 'type': 'IN', 'uri': 'http://www.romedi.fr/romedi/INldmrcngqfm8ip4p4annrmo5ho2o3p373'}, {'label': 'hydrochlorothiazide', 'type': 'IN', 'uri': 'http://www.romedi.fr/romedi/INm1ip8k1bsjl291kgata8rsa3bruheil7'}]], 'BNdosage': [[{'label': 'COAPROVEL 300 mg/12,5 mg', 'type': 'BNdosage', 'uri': 'http://www.romedi.fr/romedi/BNdosage8o3cf5s26idbfinf6b68i8lipmpsobev'}], [{'label': 'COAPROVEL 150 mg/12,5 mg', 'type': 'BNdosage', 'uri': 'http://www.romedi.fr/romedi/BNdosagefitaj548dv2et2v9jmlcqofh009l5n49'}], [{'label': 'COAPROVEL 300 mg/25 mg', 'type': 'BNdosage', 'uri': 'http://www.romedi.fr/romedi/BNdosageqnajkiglqjc28t4n640uaat1ii1otdfi'}]], 'ATC7': [[{'label': 'c09da04 (irbesartan et diuretiques)', 'type': 'ATC7', 'uri': 'http://www.romedi.fr/romedi/ATCC09DA04'}]], 'ATC4': [[{'label': \"c09d (antagonistes de l'angiotensine ii en association)\", 'type': 'ATC4', 'uri': 'http://www.romedi.fr/romedi/ATCC09D'}]], 'ATC5': [[{'label': \"c09da (antagonistes de l'angiotensine ii et diuretiques)\", 'type': 'ATC5', 'uri': 'http://www.romedi.fr/romedi/ATCC09DA'}]], 'BN': [[{'label': 'COAPROVEL', 'type': 'BN', 'uri': 'http://www.romedi.fr/romedi/BNvsuba5bn60ta5t3qog3ar1i11bo3n81f'}]], 'CIS': [[{'label': 'coaprovel 150 mg/12,5 mg, comprimé pelliculé', 'type': 'CIS', 'uri': 'http://www.romedi.fr/romedi/CIS61547030'}], [{'label': 'coaprovel 300 mg/25 mg, comprimé pelliculé', 'type': 'CIS', 'uri': 'http://www.romedi.fr/romedi/CIS63826452'}], [{'label': 'coaprovel 300 mg/12,5 mg, comprimé pelliculé', 'type': 'CIS', 'uri': 'http://www.romedi.fr/romedi/CIS67305500'}]]}\n"
     ]
    }
   ],
   "source": [
    "urlLink = \"http://www.romedi.fr:8892/RomediSPARQLAPI-0.0.1-SNAPSHOT/GetJSONbyIRI\"\n",
    "uri = \"http://www.romedi.fr/romedi/BNvsuba5bn60ta5t3qog3ar1i11bo3n81f\" ## COAPROVEL\n",
    "results = iam_system.get_uri_info(uri=uri,urlAPI=urlLink)\n",
    "print(results)"
   ]
  },
  {
   "cell_type": "code",
   "execution_count": 68,
   "metadata": {},
   "outputs": [
    {
     "name": "stdout",
     "output_type": "stream",
     "text": [
      "IN: ['irbésartan', 'hydrochlorothiazide']\n",
      "BNdosage: ['COAPROVEL 300 mg/12,5 mg']\n",
      "BNdosage: ['COAPROVEL 150 mg/12,5 mg']\n",
      "BNdosage: ['COAPROVEL 300 mg/25 mg']\n",
      "ATC7: ['c09da04 (irbesartan et diuretiques)']\n",
      "ATC4: [\"c09d (antagonistes de l'angiotensine ii en association)\"]\n",
      "ATC5: [\"c09da (antagonistes de l'angiotensine ii et diuretiques)\"]\n",
      "BN: ['COAPROVEL']\n",
      "CIS: ['coaprovel 150 mg/12,5 mg, comprimé pelliculé']\n",
      "CIS: ['coaprovel 300 mg/25 mg, comprimé pelliculé']\n",
      "CIS: ['coaprovel 300 mg/12,5 mg, comprimé pelliculé']\n"
     ]
    }
   ],
   "source": [
    "# ATC codes\n",
    "# Ingredient\n",
    "# Brand Name\n",
    "# CIS (drugs)\n",
    "for romediType in results.keys():\n",
    "    listType = results[romediType]\n",
    "    for drug_combination in listType:\n",
    "        labels = [x['label'] for x in drug_combination]\n",
    "        print(f'{romediType}: {labels}')\n"
   ]
  },
  {
   "cell_type": "markdown",
   "metadata": {},
   "source": [
    "# Retrieve more information about a drug URI"
   ]
  },
  {
   "cell_type": "code",
   "execution_count": 8,
   "metadata": {},
   "outputs": [],
   "source": [
    "%run RomediSPARQL.py"
   ]
  },
  {
   "cell_type": "code",
   "execution_count": 10,
   "metadata": {},
   "outputs": [],
   "source": [
    "# local blazegraph endpoint\n",
    "romediEndpoint = \"127.0.0.1:8889/bigdata/namespace/ROMEDI/sparql\"\n",
    "# distant\n",
    "romediEndpoint = \"http://www.romedi.fr:8890/sparql\""
   ]
  },
  {
   "cell_type": "code",
   "execution_count": 11,
   "metadata": {},
   "outputs": [
    {
     "name": "stdout",
     "output_type": "stream",
     "text": [
      "Connection successful to http://127.0.0.1:8889/bigdata/namespace/ROMEDI/sparql\n"
     ]
    }
   ],
   "source": [
    "romedi_sparql = RomediSPARQL(\"http://127.0.0.1:8889/bigdata/namespace/ROMEDI/sparql\")"
   ]
  },
  {
   "cell_type": "markdown",
   "metadata": {},
   "source": [
    "### Retrieve all links to DrugBank:"
   ]
  },
  {
   "cell_type": "code",
   "execution_count": 12,
   "metadata": {},
   "outputs": [],
   "source": [
    "resultsEndpoint = romedi_sparql.send_query(\"\"\"\n",
    "PREFIX romedi:<http://www.romedi.fr/romedi/>\n",
    "prefix owl: <http://www.w3.org/2002/07/owl#>\n",
    "SELECT ?drug ?drugbank ?labelDrug\n",
    "WHERE { \n",
    "  ?drug  owl:sameAs   ?drugbank .  \n",
    "  ?drugbank a <http://bio2rdf.org/drugbank_vocabulary:Drug> . \n",
    "  ?drug rdfs:label ?labelDrug .\n",
    "}\n",
    "\"\"\")"
   ]
  },
  {
   "cell_type": "code",
   "execution_count": 27,
   "metadata": {},
   "outputs": [],
   "source": [
    "bindings = resultsEndpoint['results']['bindings']\n",
    "setLinksDrugBank = [(x['drugbank']['value'], x['drug']['value'], x['labelDrug']['value']) for x in bindings]"
   ]
  },
  {
   "cell_type": "code",
   "execution_count": 28,
   "metadata": {},
   "outputs": [
    {
     "data": {
      "text/plain": [
       "('http://bio2rdf.org/drugbankDB00315',\n",
       " 'http://www.romedi.fr/romedi/IN0ljkq3j6beh9amg3i7umrk6cgf6v657h',\n",
       " 'ZOLMITRIPTAN')"
      ]
     },
     "execution_count": 28,
     "metadata": {},
     "output_type": "execute_result"
    }
   ],
   "source": [
    "setLinksDrugBank[0]"
   ]
  }
 ],
 "metadata": {
  "kernelspec": {
   "display_name": "Python 3",
   "language": "python",
   "name": "python3"
  },
  "language_info": {
   "codemirror_mode": {
    "name": "ipython",
    "version": 3
   },
   "file_extension": ".py",
   "mimetype": "text/x-python",
   "name": "python",
   "nbconvert_exporter": "python",
   "pygments_lexer": "ipython3",
   "version": "3.7.1"
  }
 },
 "nbformat": 4,
 "nbformat_minor": 2
}
